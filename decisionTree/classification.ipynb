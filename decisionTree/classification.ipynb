{
 "cells": [
  {
   "cell_type": "code",
   "execution_count": 1,
   "metadata": {},
   "outputs": [],
   "source": [
    "import numpy as np\n",
    "import matplotlib.pyplot as plt\n",
    "from matplotlib.colors import ListedColormap\n",
    "from sklearn.model_selection import train_test_split\n",
    "from sklearn.preprocessing import StandardScaler\n",
    "from sklearn.datasets import make_moons, make_circles, make_classification\n",
    "from sklearn.tree import DecisionTreeClassifier"
   ]
  },
  {
   "cell_type": "code",
   "execution_count": 4,
   "metadata": {},
   "outputs": [
    {
     "data": {
      "text/plain": [
       "<matplotlib.collections.PathCollection at 0x7fe3541b0588>"
      ]
     },
     "execution_count": 4,
     "metadata": {},
     "output_type": "execute_result"
    },
    {
     "data": {
      "image/png": "[encoded data removed]",
      "text/plain": [
       "<Figure size 432x288 with 1 Axes>"
      ]
     },
     "metadata": {
      "needs_background": "light"
     },
     "output_type": "display_data"
    }
   ],
   "source": [
    "x, y = make_classification(n_samples=100, #生成100个样本\n",
    "                          n_features=2, #包含2个特征,即二维数据\n",
    "                          n_redundant=0, #添加冗余特征0个\n",
    "                          n_informative=2,#包含信息的特征是2个\n",
    "                          random_state=1,#随即模式1\n",
    "                          n_clusters_per_class=1#每个簇内包含的标签类别有1个\n",
    "                          )\n",
    "\n",
    "#在这里可以查看一下X和y,其中X是100行带有两个2特征的数据,y是二分类标签\n",
    "#也可以画出散点图来观察一下X中特征的分布\n",
    "plt.scatter(x[:,0], x[:,1])"
   ]
  },
  {
   "cell_type": "code",
   "execution_count": 7,
   "metadata": {},
   "outputs": [
    {
     "data": {
      "text/plain": [
       "<matplotlib.collections.PathCollection at 0x7fe354125438>"
      ]
     },
     "execution_count": 7,
     "metadata": {},
     "output_type": "execute_result"
    },
    {
     "data": {
      "image/png": "[encoded data removed]",
      "text/plain": [
       "<Figure size 432x288 with 1 Axes>"
      ]
     },
     "metadata": {
      "needs_background": "light"
     },
     "output_type": "display_data"
    }
   ],
   "source": [
    "#从图上可以看出,生成的二分型数据的两个簇离彼此很远,这样不利于我们测试分类器的效果,因此我们使用np生成随机数组,通过让已经生成的二分型数据点加减0~1之间的随机数,使数据分布变得更散更稀疏\n",
    "#注意,这个过程只能够运行一次,因为多次运行之后X会变得非常稀疏,两个簇的数据会混合在一起,分类器的效应会继续下降\n",
    "\n",
    "rng = np.random.RandomState(2) #生成一种随机模式\n",
    "x += 2 * rng.uniform(size=x.shape) #加减0~1之间的随机数\n",
    "linearly_separable = (x, y) #生成了新的X,依然可以画散点图来观察一下特征的分布\n",
    "plt.scatter(x[:,0],x[:,1])"
   ]
  },
  {
   "cell_type": "code",
   "execution_count": 25,
   "metadata": {},
   "outputs": [
    {
     "name": "stdout",
     "output_type": "stream",
     "text": [
      "[(array([[ 0.03159499,  0.98698776],\n",
      "       [ 2.11509784, -0.04624397],\n",
      "       [ 0.88248972, -0.07575606],\n",
      "       [-0.0551441 , -0.03733246],\n",
      "       [ 0.82954503, -0.53932149],\n",
      "       [ 2.11285708,  0.66208353],\n",
      "       [ 0.5696927 ,  0.33744136],\n",
      "       [ 0.95217454, -0.75307471],\n",
      "       [-0.02922115,  0.39287336],\n",
      "       [ 1.71579557,  0.36069454],\n",
      "       [-0.27883014,  0.61420539],\n",
      "       [ 2.00344509, -0.3091496 ],\n",
      "       [ 1.50009616, -0.74636376],\n",
      "       [ 1.22540835,  1.19793017],\n",
      "       [ 0.46730819,  0.54703192],\n",
      "       [-0.36653222,  1.11971633],\n",
      "       [ 0.30124459,  1.23315697],\n",
      "       [ 0.30430746,  0.82373935],\n",
      "       [-0.23712492,  0.77876034],\n",
      "       [ 1.16339832,  0.55290238],\n",
      "       [-0.59702417,  0.6572361 ],\n",
      "       [ 0.46356735, -0.1951543 ],\n",
      "       [ 0.68451111,  0.75287685],\n",
      "       [ 0.70515699, -0.45892444],\n",
      "       [-0.65805008, -0.12944211],\n",
      "       [-0.74662946, -0.3829632 ],\n",
      "       [ 0.60585226,  0.31252842],\n",
      "       [ 2.18137168, -0.02291747],\n",
      "       [ 1.91980633,  0.17247329],\n",
      "       [ 1.4834364 , -0.10517023],\n",
      "       [ 0.47404723, -0.14575067],\n",
      "       [ 1.05614605, -1.03570207],\n",
      "       [ 1.86500732, -0.01107874],\n",
      "       [ 0.4194721 , -0.32478101],\n",
      "       [ 0.06873258,  0.56648467],\n",
      "       [-0.17332432,  1.00215131],\n",
      "       [ 0.12412421,  1.00062892],\n",
      "       [ 0.18121142,  0.24717743],\n",
      "       [-0.25451559,  0.19317272],\n",
      "       [ 1.02580668, -0.62574566],\n",
      "       [ 1.52002143, -0.04515581],\n",
      "       [ 0.64174037, -0.39369468],\n",
      "       [-0.87615589,  0.0465662 ],\n",
      "       [-1.06964997,  0.13666025],\n",
      "       [ 1.02658765,  0.37782458],\n",
      "       [ 0.93131325,  1.38517841],\n",
      "       [ 0.67680544,  1.57189931],\n",
      "       [-0.36885733,  0.72886601],\n",
      "       [-1.02465495,  0.16190215],\n",
      "       [ 0.77455385,  0.15375803],\n",
      "       [ 1.4045116 , -0.00705701],\n",
      "       [-0.38147174, -0.23488747],\n",
      "       [ 0.72155224,  0.44721658],\n",
      "       [-0.51346686,  0.67869095],\n",
      "       [ 0.32118546,  0.28668667],\n",
      "       [ 0.1953628 ,  0.16085107],\n",
      "       [ 0.52824196,  0.98300993],\n",
      "       [-0.2216539 ,  0.25160139],\n",
      "       [ 0.22334676,  1.32217183],\n",
      "       [-0.10704572,  0.56178326],\n",
      "       [ 0.63651685,  0.75444825],\n",
      "       [-0.37227848,  0.99291317],\n",
      "       [ 0.20718083, -0.09767143],\n",
      "       [ 0.12733142, -0.3796549 ],\n",
      "       [ 0.71435231, -0.79994161],\n",
      "       [ 1.09487814, -0.36841845],\n",
      "       [-0.14814362,  0.96158657],\n",
      "       [ 1.586188  , -0.62984517],\n",
      "       [ 0.74444551,  0.57661371],\n",
      "       [ 2.18011028, -0.69977751],\n",
      "       [ 0.24575594,  0.8496383 ],\n",
      "       [-0.95003581,  0.90361699],\n",
      "       [-0.88230758,  0.07249044],\n",
      "       [ 2.02297079,  0.12325148],\n",
      "       [ 2.14577321,  0.46296362],\n",
      "       [ 0.35536468, -0.67847989],\n",
      "       [ 0.34665026,  1.11570676],\n",
      "       [ 1.7392373 ,  0.45900352],\n",
      "       [ 0.63856467, -0.44718443],\n",
      "       [ 1.2876687 , -0.4910366 ],\n",
      "       [-0.13772607,  1.2453262 ],\n",
      "       [-0.56175303,  1.05486051],\n",
      "       [ 1.29003748, -0.20691405],\n",
      "       [-0.87539365,  0.50543423],\n",
      "       [-0.92858249, -0.45631991],\n",
      "       [ 0.02493632,  0.10747958],\n",
      "       [ 0.1972559 , -0.06801668],\n",
      "       [ 0.73346056,  0.28161929],\n",
      "       [ 1.68294434, -0.2020423 ],\n",
      "       [ 0.50764124, -0.11731979],\n",
      "       [ 1.66760217, -0.42485665],\n",
      "       [-0.82172282,  0.63141066],\n",
      "       [ 0.30170903,  0.78603534],\n",
      "       [ 1.37671505, -0.80915107],\n",
      "       [ 1.17037551,  0.59840653],\n",
      "       [ 1.69945309,  0.58771967],\n",
      "       [ 0.21862323, -0.65252119],\n",
      "       [ 0.95291428, -0.41976564],\n",
      "       [-1.31850034,  0.42311235],\n",
      "       [-1.29681764,  0.18414709]]), array([0, 1, 0, 1, 1, 1, 0, 1, 1, 1, 1, 1, 1, 0, 0, 0, 0, 0, 0, 0, 0, 1,\n",
      "       0, 1, 0, 0, 0, 1, 1, 1, 1, 1, 1, 1, 1, 0, 0, 1, 1, 1, 0, 1, 0, 0,\n",
      "       0, 0, 0, 0, 0, 0, 1, 1, 0, 0, 0, 1, 0, 0, 0, 1, 0, 0, 1, 1, 1, 1,\n",
      "       0, 1, 0, 1, 0, 0, 0, 1, 1, 1, 0, 1, 1, 1, 0, 0, 1, 0, 0, 1, 1, 0,\n",
      "       1, 1, 1, 0, 0, 1, 0, 1, 1, 1, 0, 0])), (array([[-0.38289117, -0.09084004],\n",
      "       [-0.02096229, -0.47787416],\n",
      "       [-0.39611596, -1.28942694],\n",
      "       [-0.61813018, -0.06383715],\n",
      "       [ 0.70347838, -0.18703837],\n",
      "       [-0.45970463,  0.69477465],\n",
      "       [-0.45091682, -0.71570524],\n",
      "       [-0.45562004, -0.13406016],\n",
      "       [-0.26513904,  0.40812871],\n",
      "       [-0.15474648,  0.41406973],\n",
      "       [ 0.231206  , -0.53275899],\n",
      "       [ 0.15623875, -0.8678088 ],\n",
      "       [ 0.51647541,  0.48940995],\n",
      "       [ 0.68707007, -0.02334129],\n",
      "       [ 0.54759869, -0.16482373],\n",
      "       [-0.32179572, -0.80553536],\n",
      "       [-1.07478639, -0.733362  ],\n",
      "       [ 0.76758455, -0.43498783],\n",
      "       [-0.47475234, -0.33813186],\n",
      "       [ 0.15420656,  1.07306032],\n",
      "       [ 0.65916696,  0.20773634],\n",
      "       [-0.77795003,  0.1326555 ],\n",
      "       [ 0.47025454, -0.31228748],\n",
      "       [-0.04246799,  0.26555446],\n",
      "       [-0.72405954,  0.48807185],\n",
      "       [-0.36960005, -1.06514028],\n",
      "       [ 0.17833327, -0.49718972],\n",
      "       [-0.93927864, -0.41951638],\n",
      "       [ 0.50914152, -0.70977467],\n",
      "       [-0.05569852, -0.82162607],\n",
      "       [-0.11214579,  0.72197044],\n",
      "       [ 0.80463921, -0.15221296],\n",
      "       [ 0.08261487, -0.11749021],\n",
      "       [ 0.20349541, -0.37396789],\n",
      "       [ 0.13864693, -0.23905642],\n",
      "       [ 0.32785307, -1.00769037],\n",
      "       [ 0.88944061, -0.39117628],\n",
      "       [-0.05837947,  0.28487039],\n",
      "       [-1.0673653 ,  0.2204006 ],\n",
      "       [-0.60071345, -0.69545189],\n",
      "       [-0.03972324, -0.40936056],\n",
      "       [ 0.39742085,  0.20621162],\n",
      "       [-0.36941154,  0.0129811 ],\n",
      "       [ 0.03573703,  0.46666229],\n",
      "       [-0.56814999, -0.41288419],\n",
      "       [ 0.41047299, -0.73640868],\n",
      "       [ 0.88249707, -0.69004404],\n",
      "       [ 0.06579822, -0.50458395],\n",
      "       [-0.75737223, -0.0724028 ],\n",
      "       [ 0.18316966,  0.08722007],\n",
      "       [ 0.67248314, -0.41892665],\n",
      "       [ 0.25898723,  0.39688645],\n",
      "       [-1.1312983 ,  0.4810614 ],\n",
      "       [ 1.0592844 ,  0.64490287],\n",
      "       [ 0.41019663,  0.38790198],\n",
      "       [ 0.95142029, -0.04089983],\n",
      "       [-0.60492988,  0.43950906],\n",
      "       [ 0.23314762, -0.81785711],\n",
      "       [ 0.91067331,  0.30702075],\n",
      "       [-0.45026472, -0.03724104],\n",
      "       [-0.81396121, -0.64733959],\n",
      "       [-0.23191338,  0.50533992],\n",
      "       [-0.59760983,  0.28023168],\n",
      "       [ 0.73960166, -0.84270281],\n",
      "       [ 0.57294659, -0.31198928],\n",
      "       [ 0.24821133, -0.54784509],\n",
      "       [ 0.52127802,  0.94108005],\n",
      "       [ 0.33973198,  0.10609978],\n",
      "       [ 1.05339036, -0.02197593],\n",
      "       [ 0.01327466, -0.63379502],\n",
      "       [ 0.2422589 ,  0.49032064],\n",
      "       [-0.89266612,  0.6345076 ],\n",
      "       [ 0.1672566 ,  0.23548462],\n",
      "       [-0.05611705,  0.38834099],\n",
      "       [ 0.84695486,  0.81435811],\n",
      "       [ 0.29976195, -0.07943031],\n",
      "       [-0.1404762 ,  0.72486032],\n",
      "       [-0.05482024,  0.18417328],\n",
      "       [-0.24643884, -0.43283337],\n",
      "       [-0.23460645,  0.6409442 ],\n",
      "       [-1.13184893, -0.61964942],\n",
      "       [-0.92413821, -0.45302089],\n",
      "       [ 0.2225745 ,  0.77052597],\n",
      "       [-0.69453765,  0.53014147],\n",
      "       [-1.0362509 ,  0.77339965],\n",
      "       [ 0.51880585,  0.30152232],\n",
      "       [-0.77429541,  0.02553767],\n",
      "       [ 0.71468326,  0.56869015],\n",
      "       [-0.33875274,  0.46826063],\n",
      "       [-0.34749244,  0.13441418],\n",
      "       [ 1.12980796,  0.04281936],\n",
      "       [-0.38308979,  0.79116812],\n",
      "       [-0.07425141,  0.2184625 ],\n",
      "       [-0.44945202, -0.05722266],\n",
      "       [ 0.85783288,  0.63778888],\n",
      "       [-0.47486203, -0.22498112],\n",
      "       [ 0.12627243,  0.86978412],\n",
      "       [-0.64736458, -0.36342437],\n",
      "       [ 0.47440459,  1.01101585],\n",
      "       [-0.38565772, -0.81031183]]), array([1, 1, 0, 1, 1, 0, 0, 1, 1, 1, 1, 0, 1, 1, 1, 0, 0, 0, 1, 0, 0, 1,\n",
      "       1, 1, 0, 0, 1, 0, 0, 0, 1, 1, 1, 1, 1, 0, 0, 1, 0, 0, 1, 1, 1, 0,\n",
      "       1, 0, 0, 1, 0, 1, 0, 1, 0, 0, 1, 0, 0, 1, 0, 1, 0, 1, 1, 0, 0, 1,\n",
      "       0, 1, 0, 1, 1, 0, 1, 1, 0, 1, 0, 1, 1, 0, 0, 0, 0, 0, 0, 1, 0, 0,\n",
      "       1, 1, 0, 0, 1, 1, 0, 1, 0, 1, 0, 0])), (array([[-0.17749658,  0.93049627],\n",
      "       [ 1.97742406,  1.76615529],\n",
      "       [ 1.80002379,  1.7003428 ],\n",
      "       [-0.77083686,  2.35916348],\n",
      "       [-0.30800901,  1.59406316],\n",
      "       [ 0.61472141,  2.43489824],\n",
      "       [ 1.0909431 ,  2.21663402],\n",
      "       [-0.83488954,  2.35868875],\n",
      "       [ 2.47946499,  1.33418967],\n",
      "       [ 1.19926597,  1.82681392],\n",
      "       [ 2.18506184,  0.8226875 ],\n",
      "       [ 1.68423203,  1.0411311 ],\n",
      "       [ 1.14621135,  2.07048527],\n",
      "       [ 1.35596945,  0.56802498],\n",
      "       [ 1.38520748,  1.82607238],\n",
      "       [ 1.86729217,  1.18692699],\n",
      "       [ 0.31227376,  2.24605353],\n",
      "       [-0.08183484,  1.70065511],\n",
      "       [ 0.90484472,  2.60683016],\n",
      "       [-0.4358609 ,  2.0151414 ],\n",
      "       [ 0.81441196,  2.13546784],\n",
      "       [ 3.10874312,  2.26786504],\n",
      "       [-0.25574217,  1.71281146],\n",
      "       [ 1.88663027,  2.72089513],\n",
      "       [ 2.29503547,  3.89267759],\n",
      "       [-0.11415626,  0.85593357],\n",
      "       [ 1.69703537,  3.47717799],\n",
      "       [ 1.83855775,  0.92667213],\n",
      "       [ 1.60298807,  1.3018436 ],\n",
      "       [ 1.13803215,  2.82955007],\n",
      "       [ 0.57002738,  1.82202469],\n",
      "       [ 0.25130172,  1.32225048],\n",
      "       [-0.39833078,  1.984345  ],\n",
      "       [ 1.6291326 ,  0.88168182],\n",
      "       [ 3.10503585,  1.74000633],\n",
      "       [-0.00566874,  1.12039041],\n",
      "       [ 1.36866557,  2.13964438],\n",
      "       [ 2.69839961,  3.54932382],\n",
      "       [ 2.00170838,  1.09862314],\n",
      "       [ 2.43627708,  1.43769476],\n",
      "       [-0.30996938,  0.91256444],\n",
      "       [ 0.08528148,  1.72286096],\n",
      "       [ 2.06235803,  1.60351529],\n",
      "       [ 1.61026984,  2.06899308],\n",
      "       [ 1.39875914,  0.69295034],\n",
      "       [ 1.68417195,  1.05499076],\n",
      "       [ 0.6032637 ,  2.18625056],\n",
      "       [-0.80090405,  1.89873999],\n",
      "       [ 2.28622906,  2.00485199],\n",
      "       [-1.08107738,  2.77507784],\n",
      "       [ 0.6731465 ,  1.08374453],\n",
      "       [ 2.96970576,  2.12322913],\n",
      "       [ 0.67950668,  2.09864274],\n",
      "       [-0.44781177,  3.18420372],\n",
      "       [-0.50033854,  2.02105531],\n",
      "       [ 1.85307118,  3.66612496],\n",
      "       [ 1.72186424,  1.78055874],\n",
      "       [ 2.25033483,  3.12143112],\n",
      "       [ 0.31356908,  1.35127949],\n",
      "       [-0.28410691,  1.85727304],\n",
      "       [ 2.12915656,  2.58463127],\n",
      "       [ 1.5764227 ,  2.01987282],\n",
      "       [-1.07819549,  1.40147405],\n",
      "       [ 1.19768119,  2.40249075],\n",
      "       [ 1.37690112,  1.14985842],\n",
      "       [-1.66006488,  1.46313474],\n",
      "       [ 1.24390011,  1.46004628],\n",
      "       [ 1.87922305,  1.72262314],\n",
      "       [ 2.90850791,  2.94159145],\n",
      "       [-0.48122613,  1.79143762],\n",
      "       [ 2.4374304 ,  1.34535331],\n",
      "       [ 2.56579874,  0.99334358],\n",
      "       [ 2.44899241,  2.49072727],\n",
      "       [ 0.46034247,  0.68402612],\n",
      "       [-0.39068268,  2.13223301],\n",
      "       [-1.26676594,  1.15606381],\n",
      "       [ 1.41882694,  2.57154527],\n",
      "       [-0.56760436,  0.99010229],\n",
      "       [-1.80173745,  1.23149132],\n",
      "       [ 0.18035906,  1.25587797],\n",
      "       [ 2.85271766,  1.84520561],\n",
      "       [ 1.84588723,  1.15083733],\n",
      "       [ 2.2332857 ,  3.1528139 ],\n",
      "       [-0.55018044,  1.08169147],\n",
      "       [-0.79089021,  1.65085521],\n",
      "       [-0.13199329,  1.94007796],\n",
      "       [ 0.70257257,  1.35701296],\n",
      "       [ 0.27672155,  2.67298668],\n",
      "       [ 0.61021587,  2.1651486 ],\n",
      "       [-0.53000368,  2.01943164],\n",
      "       [ 1.83727888,  2.1110129 ],\n",
      "       [ 0.28416019,  2.64492964],\n",
      "       [ 1.89688379,  2.26044693],\n",
      "       [ 2.06813613,  2.6101669 ],\n",
      "       [-1.72274127,  1.27907652],\n",
      "       [ 2.63238161,  1.27130508],\n",
      "       [-0.04025574,  1.7827081 ],\n",
      "       [-0.78745318,  1.40035688],\n",
      "       [ 2.70244116,  1.58744358],\n",
      "       [ 1.2909693 ,  2.75193673]]), array([1, 0, 0, 1, 1, 1, 0, 1, 0, 1, 0, 0, 0, 0, 0, 0, 1, 1, 1, 1, 1, 0,\n",
      "       1, 0, 0, 1, 0, 0, 0, 1, 1, 1, 1, 0, 0, 1, 0, 0, 0, 0, 1, 1, 0, 0,\n",
      "       1, 0, 1, 1, 0, 1, 1, 0, 1, 1, 1, 0, 0, 0, 1, 1, 0, 0, 1, 0, 0, 1,\n",
      "       0, 0, 0, 1, 0, 0, 0, 1, 1, 1, 0, 1, 1, 1, 0, 0, 0, 1, 1, 1, 0, 1,\n",
      "       1, 1, 0, 1, 0, 0, 1, 0, 1, 1, 0, 1]))]\n"
     ]
    }
   ],
   "source": [
    "datasets = [make_moons(noise=0.3, random_state=0),\n",
    "           make_circles(noise=0.2, factor=0.5, random_state=1),\n",
    "           linearly_separable]\n",
    "print(datasets)"
   ]
  },
  {
   "cell_type": "code",
   "execution_count": 19,
   "metadata": {},
   "outputs": [
    {
     "name": "stdout",
     "output_type": "stream",
     "text": [
      "3\n"
     ]
    }
   ],
   "source": [
    "print(len(datasets))"
   ]
  },
  {
   "cell_type": "code",
   "execution_count": 26,
   "metadata": {},
   "outputs": [
    {
     "name": "stdout",
     "output_type": "stream",
     "text": [
      "2\n"
     ]
    }
   ],
   "source": [
    "print(len(datasets[0]))"
   ]
  },
  {
   "cell_type": "code",
   "execution_count": 27,
   "metadata": {},
   "outputs": [
    {
     "name": "stdout",
     "output_type": "stream",
     "text": [
      "100\n"
     ]
    }
   ],
   "source": [
    "print(len(datasets[0][0]))"
   ]
  },
  {
   "cell_type": "code",
   "execution_count": 30,
   "metadata": {},
   "outputs": [
    {
     "name": "stdout",
     "output_type": "stream",
     "text": [
      "100\n"
     ]
    }
   ],
   "source": [
    "print(len(datasets[0][1]))"
   ]
  },
  {
   "cell_type": "code",
   "execution_count": 38,
   "metadata": {},
   "outputs": [
    {
     "data": {
      "text/plain": [
       "array([[ 0.03159499,  0.98698776],\n",
       "       [ 2.11509784, -0.04624397],\n",
       "       [ 0.88248972, -0.07575606],\n",
       "       [-0.0551441 , -0.03733246],\n",
       "       [ 0.82954503, -0.53932149],\n",
       "       [ 2.11285708,  0.66208353],\n",
       "       [ 0.5696927 ,  0.33744136],\n",
       "       [ 0.95217454, -0.75307471],\n",
       "       [-0.02922115,  0.39287336],\n",
       "       [ 1.71579557,  0.36069454],\n",
       "       [-0.27883014,  0.61420539],\n",
       "       [ 2.00344509, -0.3091496 ],\n",
       "       [ 1.50009616, -0.74636376],\n",
       "       [ 1.22540835,  1.19793017],\n",
       "       [ 0.46730819,  0.54703192],\n",
       "       [-0.36653222,  1.11971633],\n",
       "       [ 0.30124459,  1.23315697],\n",
       "       [ 0.30430746,  0.82373935],\n",
       "       [-0.23712492,  0.77876034],\n",
       "       [ 1.16339832,  0.55290238],\n",
       "       [-0.59702417,  0.6572361 ],\n",
       "       [ 0.46356735, -0.1951543 ],\n",
       "       [ 0.68451111,  0.75287685],\n",
       "       [ 0.70515699, -0.45892444],\n",
       "       [-0.65805008, -0.12944211],\n",
       "       [-0.74662946, -0.3829632 ],\n",
       "       [ 0.60585226,  0.31252842],\n",
       "       [ 2.18137168, -0.02291747],\n",
       "       [ 1.91980633,  0.17247329],\n",
       "       [ 1.4834364 , -0.10517023],\n",
       "       [ 0.47404723, -0.14575067],\n",
       "       [ 1.05614605, -1.03570207],\n",
       "       [ 1.86500732, -0.01107874],\n",
       "       [ 0.4194721 , -0.32478101],\n",
       "       [ 0.06873258,  0.56648467],\n",
       "       [-0.17332432,  1.00215131],\n",
       "       [ 0.12412421,  1.00062892],\n",
       "       [ 0.18121142,  0.24717743],\n",
       "       [-0.25451559,  0.19317272],\n",
       "       [ 1.02580668, -0.62574566],\n",
       "       [ 1.52002143, -0.04515581],\n",
       "       [ 0.64174037, -0.39369468],\n",
       "       [-0.87615589,  0.0465662 ],\n",
       "       [-1.06964997,  0.13666025],\n",
       "       [ 1.02658765,  0.37782458],\n",
       "       [ 0.93131325,  1.38517841],\n",
       "       [ 0.67680544,  1.57189931],\n",
       "       [-0.36885733,  0.72886601],\n",
       "       [-1.02465495,  0.16190215],\n",
       "       [ 0.77455385,  0.15375803],\n",
       "       [ 1.4045116 , -0.00705701],\n",
       "       [-0.38147174, -0.23488747],\n",
       "       [ 0.72155224,  0.44721658],\n",
       "       [-0.51346686,  0.67869095],\n",
       "       [ 0.32118546,  0.28668667],\n",
       "       [ 0.1953628 ,  0.16085107],\n",
       "       [ 0.52824196,  0.98300993],\n",
       "       [-0.2216539 ,  0.25160139],\n",
       "       [ 0.22334676,  1.32217183],\n",
       "       [-0.10704572,  0.56178326],\n",
       "       [ 0.63651685,  0.75444825],\n",
       "       [-0.37227848,  0.99291317],\n",
       "       [ 0.20718083, -0.09767143],\n",
       "       [ 0.12733142, -0.3796549 ],\n",
       "       [ 0.71435231, -0.79994161],\n",
       "       [ 1.09487814, -0.36841845],\n",
       "       [-0.14814362,  0.96158657],\n",
       "       [ 1.586188  , -0.62984517],\n",
       "       [ 0.74444551,  0.57661371],\n",
       "       [ 2.18011028, -0.69977751],\n",
       "       [ 0.24575594,  0.8496383 ],\n",
       "       [-0.95003581,  0.90361699],\n",
       "       [-0.88230758,  0.07249044],\n",
       "       [ 2.02297079,  0.12325148],\n",
       "       [ 2.14577321,  0.46296362],\n",
       "       [ 0.35536468, -0.67847989],\n",
       "       [ 0.34665026,  1.11570676],\n",
       "       [ 1.7392373 ,  0.45900352],\n",
       "       [ 0.63856467, -0.44718443],\n",
       "       [ 1.2876687 , -0.4910366 ],\n",
       "       [-0.13772607,  1.2453262 ],\n",
       "       [-0.56175303,  1.05486051],\n",
       "       [ 1.29003748, -0.20691405],\n",
       "       [-0.87539365,  0.50543423],\n",
       "       [-0.92858249, -0.45631991],\n",
       "       [ 0.02493632,  0.10747958],\n",
       "       [ 0.1972559 , -0.06801668],\n",
       "       [ 0.73346056,  0.28161929],\n",
       "       [ 1.68294434, -0.2020423 ],\n",
       "       [ 0.50764124, -0.11731979],\n",
       "       [ 1.66760217, -0.42485665],\n",
       "       [-0.82172282,  0.63141066],\n",
       "       [ 0.30170903,  0.78603534],\n",
       "       [ 1.37671505, -0.80915107],\n",
       "       [ 1.17037551,  0.59840653],\n",
       "       [ 1.69945309,  0.58771967],\n",
       "       [ 0.21862323, -0.65252119],\n",
       "       [ 0.95291428, -0.41976564],\n",
       "       [-1.31850034,  0.42311235],\n",
       "       [-1.29681764,  0.18414709]])"
      ]
     },
     "execution_count": 38,
     "metadata": {},
     "output_type": "execute_result"
    }
   ],
   "source": [
    "data1 = datasets[0][0]\n",
    "data1"
   ]
  },
  {
   "cell_type": "code",
   "execution_count": 41,
   "metadata": {},
   "outputs": [
    {
     "data": {
      "text/plain": [
       "<matplotlib.collections.PathCollection at 0x7fe353d42198>"
      ]
     },
     "execution_count": 41,
     "metadata": {},
     "output_type": "execute_result"
    },
    {
     "data": {
      "image/png": "[encoded data removed]",
      "text/plain": [
       "<Figure size 432x288 with 1 Axes>"
      ]
     },
     "metadata": {
      "needs_background": "light"
     },
     "output_type": "display_data"
    }
   ],
   "source": [
    "plt.scatter(data1,data1)"
   ]
  },
  {
   "cell_type": "code",
   "execution_count": null,
   "metadata": {},
   "outputs": [],
   "source": []
  },
  {
   "cell_type": "code",
   "execution_count": null,
   "metadata": {},
   "outputs": [],
   "source": []
  },
  {
   "cell_type": "code",
   "execution_count": 35,
   "metadata": {},
   "outputs": [
    {
     "ename": "ValueError",
     "evalue": "could not broadcast input array from shape (100,2) into shape (100)",
     "output_type": "error",
     "traceback": [
      "\u001b[0;31m---------------------------------------------------------------------------\u001b[0m",
      "\u001b[0;31mValueError\u001b[0m                                Traceback (most recent call last)",
      "\u001b[0;32m<ipython-input-35-2f305cebe2ff>\u001b[0m in \u001b[0;36m<module>\u001b[0;34m\u001b[0m\n\u001b[0;32m----> 1\u001b[0;31m \u001b[0mplt\u001b[0m\u001b[0;34m.\u001b[0m\u001b[0mscatter\u001b[0m\u001b[0;34m(\u001b[0m\u001b[0mdatasets\u001b[0m\u001b[0;34m,\u001b[0m\u001b[0mdatasets\u001b[0m\u001b[0;34m)\u001b[0m\u001b[0;34m\u001b[0m\u001b[0;34m\u001b[0m\u001b[0m\n\u001b[0m",
      "\u001b[0;32m~/anaconda3/envs/keras-env/lib/python3.6/site-packages/matplotlib/pyplot.py\u001b[0m in \u001b[0;36mscatter\u001b[0;34m(x, y, s, c, marker, cmap, norm, vmin, vmax, alpha, linewidths, verts, edgecolors, plotnonfinite, data, **kwargs)\u001b[0m\n\u001b[1;32m   2814\u001b[0m         \u001b[0mverts\u001b[0m\u001b[0;34m=\u001b[0m\u001b[0mverts\u001b[0m\u001b[0;34m,\u001b[0m \u001b[0medgecolors\u001b[0m\u001b[0;34m=\u001b[0m\u001b[0medgecolors\u001b[0m\u001b[0;34m,\u001b[0m\u001b[0;34m\u001b[0m\u001b[0;34m\u001b[0m\u001b[0m\n\u001b[1;32m   2815\u001b[0m         plotnonfinite=plotnonfinite, **({\"data\": data} if data is not\n\u001b[0;32m-> 2816\u001b[0;31m         None else {}), **kwargs)\n\u001b[0m\u001b[1;32m   2817\u001b[0m     \u001b[0msci\u001b[0m\u001b[0;34m(\u001b[0m\u001b[0m__ret\u001b[0m\u001b[0;34m)\u001b[0m\u001b[0;34m\u001b[0m\u001b[0;34m\u001b[0m\u001b[0m\n\u001b[1;32m   2818\u001b[0m     \u001b[0;32mreturn\u001b[0m \u001b[0m__ret\u001b[0m\u001b[0;34m\u001b[0m\u001b[0;34m\u001b[0m\u001b[0m\n",
      "\u001b[0;32m~/anaconda3/envs/keras-env/lib/python3.6/site-packages/matplotlib/__init__.py\u001b[0m in \u001b[0;36minner\u001b[0;34m(ax, data, *args, **kwargs)\u001b[0m\n\u001b[1;32m   1563\u001b[0m     \u001b[0;32mdef\u001b[0m \u001b[0minner\u001b[0m\u001b[0;34m(\u001b[0m\u001b[0max\u001b[0m\u001b[0;34m,\u001b[0m \u001b[0;34m*\u001b[0m\u001b[0margs\u001b[0m\u001b[0;34m,\u001b[0m \u001b[0mdata\u001b[0m\u001b[0;34m=\u001b[0m\u001b[0;32mNone\u001b[0m\u001b[0;34m,\u001b[0m \u001b[0;34m**\u001b[0m\u001b[0mkwargs\u001b[0m\u001b[0;34m)\u001b[0m\u001b[0;34m:\u001b[0m\u001b[0;34m\u001b[0m\u001b[0;34m\u001b[0m\u001b[0m\n\u001b[1;32m   1564\u001b[0m         \u001b[0;32mif\u001b[0m \u001b[0mdata\u001b[0m \u001b[0;32mis\u001b[0m \u001b[0;32mNone\u001b[0m\u001b[0;34m:\u001b[0m\u001b[0;34m\u001b[0m\u001b[0;34m\u001b[0m\u001b[0m\n\u001b[0;32m-> 1565\u001b[0;31m             \u001b[0;32mreturn\u001b[0m \u001b[0mfunc\u001b[0m\u001b[0;34m(\u001b[0m\u001b[0max\u001b[0m\u001b[0;34m,\u001b[0m \u001b[0;34m*\u001b[0m\u001b[0mmap\u001b[0m\u001b[0;34m(\u001b[0m\u001b[0msanitize_sequence\u001b[0m\u001b[0;34m,\u001b[0m \u001b[0margs\u001b[0m\u001b[0;34m)\u001b[0m\u001b[0;34m,\u001b[0m \u001b[0;34m**\u001b[0m\u001b[0mkwargs\u001b[0m\u001b[0;34m)\u001b[0m\u001b[0;34m\u001b[0m\u001b[0;34m\u001b[0m\u001b[0m\n\u001b[0m\u001b[1;32m   1566\u001b[0m \u001b[0;34m\u001b[0m\u001b[0m\n\u001b[1;32m   1567\u001b[0m         \u001b[0mbound\u001b[0m \u001b[0;34m=\u001b[0m \u001b[0mnew_sig\u001b[0m\u001b[0;34m.\u001b[0m\u001b[0mbind\u001b[0m\u001b[0;34m(\u001b[0m\u001b[0max\u001b[0m\u001b[0;34m,\u001b[0m \u001b[0;34m*\u001b[0m\u001b[0margs\u001b[0m\u001b[0;34m,\u001b[0m \u001b[0;34m**\u001b[0m\u001b[0mkwargs\u001b[0m\u001b[0;34m)\u001b[0m\u001b[0;34m\u001b[0m\u001b[0;34m\u001b[0m\u001b[0m\n",
      "\u001b[0;32m~/anaconda3/envs/keras-env/lib/python3.6/site-packages/matplotlib/cbook/deprecation.py\u001b[0m in \u001b[0;36mwrapper\u001b[0;34m(*args, **kwargs)\u001b[0m\n\u001b[1;32m    356\u001b[0m                 \u001b[0;34mf\"%(removal)s.  If any parameter follows {name!r}, they \"\u001b[0m\u001b[0;34m\u001b[0m\u001b[0;34m\u001b[0m\u001b[0m\n\u001b[1;32m    357\u001b[0m                 f\"should be pass as keyword, not positionally.\")\n\u001b[0;32m--> 358\u001b[0;31m         \u001b[0;32mreturn\u001b[0m \u001b[0mfunc\u001b[0m\u001b[0;34m(\u001b[0m\u001b[0;34m*\u001b[0m\u001b[0margs\u001b[0m\u001b[0;34m,\u001b[0m \u001b[0;34m**\u001b[0m\u001b[0mkwargs\u001b[0m\u001b[0;34m)\u001b[0m\u001b[0;34m\u001b[0m\u001b[0;34m\u001b[0m\u001b[0m\n\u001b[0m\u001b[1;32m    359\u001b[0m \u001b[0;34m\u001b[0m\u001b[0m\n\u001b[1;32m    360\u001b[0m     \u001b[0;32mreturn\u001b[0m \u001b[0mwrapper\u001b[0m\u001b[0;34m\u001b[0m\u001b[0;34m\u001b[0m\u001b[0m\n",
      "\u001b[0;32m~/anaconda3/envs/keras-env/lib/python3.6/site-packages/matplotlib/axes/_axes.py\u001b[0m in \u001b[0;36mscatter\u001b[0;34m(self, x, y, s, c, marker, cmap, norm, vmin, vmax, alpha, linewidths, verts, edgecolors, plotnonfinite, **kwargs)\u001b[0m\n\u001b[1;32m   4386\u001b[0m         \u001b[0;31m# np.ma.ravel yields an ndarray, not a masked array,\u001b[0m\u001b[0;34m\u001b[0m\u001b[0;34m\u001b[0m\u001b[0;34m\u001b[0m\u001b[0m\n\u001b[1;32m   4387\u001b[0m         \u001b[0;31m# unless its argument is a masked array.\u001b[0m\u001b[0;34m\u001b[0m\u001b[0;34m\u001b[0m\u001b[0;34m\u001b[0m\u001b[0m\n\u001b[0;32m-> 4388\u001b[0;31m         \u001b[0mx\u001b[0m \u001b[0;34m=\u001b[0m \u001b[0mnp\u001b[0m\u001b[0;34m.\u001b[0m\u001b[0mma\u001b[0m\u001b[0;34m.\u001b[0m\u001b[0mravel\u001b[0m\u001b[0;34m(\u001b[0m\u001b[0mx\u001b[0m\u001b[0;34m)\u001b[0m\u001b[0;34m\u001b[0m\u001b[0;34m\u001b[0m\u001b[0m\n\u001b[0m\u001b[1;32m   4389\u001b[0m         \u001b[0my\u001b[0m \u001b[0;34m=\u001b[0m \u001b[0mnp\u001b[0m\u001b[0;34m.\u001b[0m\u001b[0mma\u001b[0m\u001b[0;34m.\u001b[0m\u001b[0mravel\u001b[0m\u001b[0;34m(\u001b[0m\u001b[0my\u001b[0m\u001b[0;34m)\u001b[0m\u001b[0;34m\u001b[0m\u001b[0;34m\u001b[0m\u001b[0m\n\u001b[1;32m   4390\u001b[0m         \u001b[0;32mif\u001b[0m \u001b[0mx\u001b[0m\u001b[0;34m.\u001b[0m\u001b[0msize\u001b[0m \u001b[0;34m!=\u001b[0m \u001b[0my\u001b[0m\u001b[0;34m.\u001b[0m\u001b[0msize\u001b[0m\u001b[0;34m:\u001b[0m\u001b[0;34m\u001b[0m\u001b[0;34m\u001b[0m\u001b[0m\n",
      "\u001b[0;32m~/anaconda3/envs/keras-env/lib/python3.6/site-packages/numpy/ma/core.py\u001b[0m in \u001b[0;36m__call__\u001b[0;34m(self, a, *args, **params)\u001b[0m\n\u001b[1;32m   6678\u001b[0m             \u001b[0ma\u001b[0m\u001b[0;34m,\u001b[0m \u001b[0margs\u001b[0m\u001b[0;34m[\u001b[0m\u001b[0;36m0\u001b[0m\u001b[0;34m]\u001b[0m \u001b[0;34m=\u001b[0m \u001b[0margs\u001b[0m\u001b[0;34m[\u001b[0m\u001b[0;36m0\u001b[0m\u001b[0;34m]\u001b[0m\u001b[0;34m,\u001b[0m \u001b[0ma\u001b[0m\u001b[0;34m\u001b[0m\u001b[0;34m\u001b[0m\u001b[0m\n\u001b[1;32m   6679\u001b[0m \u001b[0;34m\u001b[0m\u001b[0m\n\u001b[0;32m-> 6680\u001b[0;31m         \u001b[0mmarr\u001b[0m \u001b[0;34m=\u001b[0m \u001b[0masanyarray\u001b[0m\u001b[0;34m(\u001b[0m\u001b[0ma\u001b[0m\u001b[0;34m)\u001b[0m\u001b[0;34m\u001b[0m\u001b[0;34m\u001b[0m\u001b[0m\n\u001b[0m\u001b[1;32m   6681\u001b[0m         \u001b[0mmethod_name\u001b[0m \u001b[0;34m=\u001b[0m \u001b[0mself\u001b[0m\u001b[0;34m.\u001b[0m\u001b[0m__name__\u001b[0m\u001b[0;34m\u001b[0m\u001b[0;34m\u001b[0m\u001b[0m\n\u001b[1;32m   6682\u001b[0m         \u001b[0mmethod\u001b[0m \u001b[0;34m=\u001b[0m \u001b[0mgetattr\u001b[0m\u001b[0;34m(\u001b[0m\u001b[0mtype\u001b[0m\u001b[0;34m(\u001b[0m\u001b[0mmarr\u001b[0m\u001b[0;34m)\u001b[0m\u001b[0;34m,\u001b[0m \u001b[0mmethod_name\u001b[0m\u001b[0;34m,\u001b[0m \u001b[0;32mNone\u001b[0m\u001b[0;34m)\u001b[0m\u001b[0;34m\u001b[0m\u001b[0;34m\u001b[0m\u001b[0m\n",
      "\u001b[0;32m~/anaconda3/envs/keras-env/lib/python3.6/site-packages/numpy/ma/core.py\u001b[0m in \u001b[0;36masanyarray\u001b[0;34m(a, dtype)\u001b[0m\n\u001b[1;32m   7896\u001b[0m     \u001b[0;32mif\u001b[0m \u001b[0misinstance\u001b[0m\u001b[0;34m(\u001b[0m\u001b[0ma\u001b[0m\u001b[0;34m,\u001b[0m \u001b[0mMaskedArray\u001b[0m\u001b[0;34m)\u001b[0m \u001b[0;32mand\u001b[0m \u001b[0;34m(\u001b[0m\u001b[0mdtype\u001b[0m \u001b[0;32mis\u001b[0m \u001b[0;32mNone\u001b[0m \u001b[0;32mor\u001b[0m \u001b[0mdtype\u001b[0m \u001b[0;34m==\u001b[0m \u001b[0ma\u001b[0m\u001b[0;34m.\u001b[0m\u001b[0mdtype\u001b[0m\u001b[0;34m)\u001b[0m\u001b[0;34m:\u001b[0m\u001b[0;34m\u001b[0m\u001b[0;34m\u001b[0m\u001b[0m\n\u001b[1;32m   7897\u001b[0m         \u001b[0;32mreturn\u001b[0m \u001b[0ma\u001b[0m\u001b[0;34m\u001b[0m\u001b[0;34m\u001b[0m\u001b[0m\n\u001b[0;32m-> 7898\u001b[0;31m     \u001b[0;32mreturn\u001b[0m \u001b[0mmasked_array\u001b[0m\u001b[0;34m(\u001b[0m\u001b[0ma\u001b[0m\u001b[0;34m,\u001b[0m \u001b[0mdtype\u001b[0m\u001b[0;34m=\u001b[0m\u001b[0mdtype\u001b[0m\u001b[0;34m,\u001b[0m \u001b[0mcopy\u001b[0m\u001b[0;34m=\u001b[0m\u001b[0;32mFalse\u001b[0m\u001b[0;34m,\u001b[0m \u001b[0mkeep_mask\u001b[0m\u001b[0;34m=\u001b[0m\u001b[0;32mTrue\u001b[0m\u001b[0;34m,\u001b[0m \u001b[0msubok\u001b[0m\u001b[0;34m=\u001b[0m\u001b[0;32mTrue\u001b[0m\u001b[0;34m)\u001b[0m\u001b[0;34m\u001b[0m\u001b[0;34m\u001b[0m\u001b[0m\n\u001b[0m\u001b[1;32m   7899\u001b[0m \u001b[0;34m\u001b[0m\u001b[0m\n\u001b[1;32m   7900\u001b[0m \u001b[0;34m\u001b[0m\u001b[0m\n",
      "\u001b[0;32m~/anaconda3/envs/keras-env/lib/python3.6/site-packages/numpy/ma/core.py\u001b[0m in \u001b[0;36m__new__\u001b[0;34m(cls, data, mask, dtype, copy, subok, ndmin, fill_value, keep_mask, hard_mask, shrink, order, **options)\u001b[0m\n\u001b[1;32m   2793\u001b[0m         \u001b[0;31m# Process data.\u001b[0m\u001b[0;34m\u001b[0m\u001b[0;34m\u001b[0m\u001b[0;34m\u001b[0m\u001b[0m\n\u001b[1;32m   2794\u001b[0m         _data = np.array(data, dtype=dtype, copy=copy,\n\u001b[0;32m-> 2795\u001b[0;31m                          order=order, subok=True, ndmin=ndmin)\n\u001b[0m\u001b[1;32m   2796\u001b[0m         \u001b[0m_baseclass\u001b[0m \u001b[0;34m=\u001b[0m \u001b[0mgetattr\u001b[0m\u001b[0;34m(\u001b[0m\u001b[0mdata\u001b[0m\u001b[0;34m,\u001b[0m \u001b[0;34m'_baseclass'\u001b[0m\u001b[0;34m,\u001b[0m \u001b[0mtype\u001b[0m\u001b[0;34m(\u001b[0m\u001b[0m_data\u001b[0m\u001b[0;34m)\u001b[0m\u001b[0;34m)\u001b[0m\u001b[0;34m\u001b[0m\u001b[0;34m\u001b[0m\u001b[0m\n\u001b[1;32m   2797\u001b[0m         \u001b[0;31m# Check that we're not erasing the mask.\u001b[0m\u001b[0;34m\u001b[0m\u001b[0;34m\u001b[0m\u001b[0;34m\u001b[0m\u001b[0m\n",
      "\u001b[0;31mValueError\u001b[0m: could not broadcast input array from shape (100,2) into shape (100)"
     ]
    },
    {
     "data": {
      "image/png": "[encoded data removed]",
      "text/plain": [
       "<Figure size 432x288 with 1 Axes>"
      ]
     },
     "metadata": {
      "needs_background": "light"
     },
     "output_type": "display_data"
    }
   ],
   "source": [
    "plt.scatter(datasets,datasets)"
   ]
  },
  {
   "cell_type": "code",
   "execution_count": null,
   "metadata": {},
   "outputs": [],
   "source": []
  },
  {
   "cell_type": "code",
   "execution_count": null,
   "metadata": {},
   "outputs": [],
   "source": []
  },
  {
   "cell_type": "code",
   "execution_count": null,
   "metadata": {},
   "outputs": [],
   "source": []
  }
 ],
 "metadata": {
  "kernelspec": {
   "display_name": "Python 3",
   "language": "python",
   "name": "python3"
  },
  "language_info": {
   "codemirror_mode": {
    "name": "ipython",
    "version": 3
   },
   "file_extension": ".py",
   "mimetype": "text/x-python",
   "name": "python",
   "nbconvert_exporter": "python",
   "pygments_lexer": "ipython3",
   "version": "3.6.10"
  }
 },
 "nbformat": 4,
 "nbformat_minor": 4
}
